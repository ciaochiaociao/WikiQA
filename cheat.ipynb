{
 "cells": [
  {
   "cell_type": "code",
   "execution_count": 29,
   "outputs": [],
   "source": [
    "from stanfordnlp.server import CoreNLPClient\n",
    "import re\n",
    "# fix bug: google.protobuf.message.DecodeError: Error parsing message\n",
    "# ref: https://github.com/stanfordnlp/stanfordnlp/issues/154\n",
    "from google.protobuf.pyext._message import SetAllowOversizeProtos\n",
    "\n",
    "SetAllowOversizeProtos(True)\n",
    "\n",
    "nlp = CoreNLPClient(endpoint='http://140.109.19.190:9000', annotators=\"tokenize,ssplit,lemma,pos,ner\",\n",
    "\t\t\t\t\t\t\tstart_server=False, properties='chinese')\n",
    "\n",
    "from wikidata4fgc_v2 import *\n",
    "def get_mentions_from_text(text):\n",
    "\tnlp_data = nlp.annotate(text, properties={'pipelineLanguage': 'zh', 'annotators': \"tokenize,lemma,pos,ner\"})\n",
    "\tfor mention in nlp_data.mentions:\n",
    "\t\t# def tok_ix_2_char_ix\n",
    "\t\n",
    "\t\tall_tokens = [token for sent in nlp_data.sentence for token in sent.token]\n",
    "\t\tlen_all_tokens = list(filter(bool, [len(token.originalText) for token in all_tokens]))\n",
    "\t\n",
    "\t\tassert len(len_all_tokens) == len(all_tokens)\n",
    "\t\ts = 0\n",
    "\t\ttok_char_indexes = [s]\n",
    "\t\tfor l in len_all_tokens:\n",
    "\t\t\ts += l\n",
    "\t\t\ttok_char_indexes.append(s)\n",
    "\t\n",
    "\t\t# solve the problem that tokenization does not include newlines\n",
    "\t\tfor token in all_tokens:\n",
    "\t\t\ttok_ix = token.tokenBeginIndex\n",
    "\t\t\tchar_ix = tok_char_indexes[tok_ix]\n",
    "\t\t\ttext_by_char_ix = nlp_data.text[char_ix: char_ix + len(token.originalText)]\n",
    "\t\t\tnewlines = re.findall('[\\n\\s\\t]', text_by_char_ix)\n",
    "\t\t\tif newlines:\n",
    "\t\t\t\tfor ix in range(tok_ix, len(all_tokens)):\n",
    "\t\t\t\t\ttok_char_indexes[ix] += len(newlines)\n",
    "\t\t\t# for debugging\n",
    "\t\t\t# tok_ix = token.tokenBeginIndex\n",
    "\t\t\t# char_ix = tok_char_indexes[tok_ix]\n",
    "\t\t\t# print(tok_ix, char_ix, token.originalText, passage_data.text[char_ix: char_ix + len(token.originalText)])\n",
    "\t\t\n",
    "\t\t# mention_slice = (tok_char_indexes[mention.tokenStartInSentenceInclusive], tok_char_indexes[mention.tokenEndInSentenceExclusive])\n",
    "\t\tchar_b, char_e = tok_char_indexes[mention.tokenStartInSentenceInclusive], tok_char_indexes[mention.tokenEndInSentenceExclusive]\n",
    "\t\tyield {'text': mention.entityMentionText, 'char_b': char_b, 'char_e': char_e, 'ner': mention.ner}"
   ],
   "metadata": {
    "collapsed": false,
    "pycharm": {
     "name": "#%%\n",
     "is_executing": false
    }
   }
  },
  {
   "cell_type": "code",
   "execution_count": 50,
   "outputs": [],
   "source": [
    "def get_alias_question(org_question, name, start, end):\n",
    "\ttry:\n",
    "\t\tfor alias_ne in get_all_aliases_from_dict(get_dicts_from_keyword(name)[0])[1]:\n",
    "\t\t\tpart_1 = org_question[:start]\n",
    "\t\t\tpart_2 = alias_ne\n",
    "\t\t\tpart_3 = org_question[end:]\n",
    "\t\t\tyield part_1 + part_2 + part_3\n",
    "\texcept IndexError:\n",
    "\t\tyield "
   ],
   "metadata": {
    "collapsed": false,
    "pycharm": {
     "name": "#%%\n",
     "is_executing": false
    }
   }
  },
  {
   "cell_type": "code",
   "execution_count": 80,
   "outputs": [],
   "source": [
    "def get_cheat_sheet(original_question):\n",
    "\tnew_questions = []\n",
    "\tnew_questions_after = []\n",
    "\tnew_questions.append(original_question)\n",
    "\tfor ner in get_mentions_from_text(original_question):\n",
    "\t\t# print(ner)\n",
    "\t\tfor new_question in new_questions:\n",
    "\t\t\tnew_questions_after += [alias for alias in get_alias_question(new_question, ner['text'], ner['char_b'], ner['char_e']) if alias is not None]\n",
    "\t# print(new_questions)\n",
    "\t\tnew_questions += new_questions_after\n",
    "\treturn new_questions\n"
   ],
   "metadata": {
    "collapsed": false,
    "pycharm": {
     "name": "#%%\n",
     "is_executing": false
    }
   }
  },
  {
   "cell_type": "code",
   "execution_count": 81,
   "outputs": [],
   "source": [
    "import json\n",
    "\n",
    "with open('FGC_release_all(cn).json', encoding='utf-8') as f:\n",
    "\tdata = json.load(f)\n",
    "\t\n",
    "cheat_sheet = {}\n",
    "for item in data:\n",
    "\tfor q in item['QUESTIONS']:\n",
    "\t\tqtext = q['QTEXT_CN']\n",
    "\t\tnew_questions = get_cheat_sheet(qtext)\n",
    "\t\tans = q['ANSWER'][0]['ATEXT']\n",
    "\t\tfor question in new_questions:\n",
    "\t\t\tcheat_sheet.update({question: ans})"
   ],
   "metadata": {
    "collapsed": false,
    "pycharm": {
     "name": "#%%\n",
     "is_executing": false
    }
   }
  },
  {
   "cell_type": "code",
   "execution_count": 91,
   "outputs": [
    {
     "data": {
      "text/plain": "dict"
     },
     "metadata": {},
     "output_type": "execute_result",
     "execution_count": 91
    }
   ],
   "source": [
    "cheat_sheet2 = {i:v for i, v in cheat_sheet.items() if i is not None}\n",
    "type(cheat_sheet2)"
   ],
   "metadata": {
    "collapsed": false,
    "pycharm": {
     "name": "#%%\n",
     "is_executing": false
    }
   }
  },
  {
   "cell_type": "code",
   "execution_count": 84,
   "outputs": [
    {
     "name": "stdout",
     "text": [
      "苏东坡与韩愈是否为好朋友?\n",
      "蘇東坡与韩愈是否为好朋友?\n",
      "老泉山人与韩愈是否为好朋友?\n",
      "蘇文忠与韩愈是否为好朋友?\n",
      "蘇和仲与韩愈是否为好朋友?\n",
      "蘇子瞻与韩愈是否为好朋友?\n",
      "東坡居士与韩愈是否为好朋友?\n",
      "鐵冠道人与韩愈是否为好朋友?\n",
      "苏东坡与韓昌黎是否为好朋友?\n",
      "苏东坡与韓十八是否为好朋友?\n",
      "苏东坡与退之是否为好朋友?\n",
      "苏东坡与韓退之是否为好朋友?\n",
      "苏东坡与文是否为好朋友?\n",
      "苏东坡与韓文公是否为好朋友?\n",
      "苏东坡与韓吏部是否为好朋友?\n",
      "蘇東坡与韓昌黎是否为好朋友?\n",
      "蘇東坡与韓十八是否为好朋友?\n",
      "蘇東坡与退之是否为好朋友?\n",
      "蘇東坡与韓退之是否为好朋友?\n",
      "蘇東坡与文是否为好朋友?\n",
      "蘇東坡与韓文公是否为好朋友?\n",
      "蘇東坡与韓吏部是否为好朋友?\n",
      "老泉山人韓昌黎愈是否为好朋友?\n",
      "老泉山人韓十八愈是否为好朋友?\n",
      "老泉山人退之愈是否为好朋友?\n",
      "老泉山人韓退之愈是否为好朋友?\n",
      "老泉山人文愈是否为好朋友?\n",
      "老泉山人韓文公愈是否为好朋友?\n",
      "老泉山人韓吏部愈是否为好朋友?\n",
      "蘇文忠与韓昌黎是否为好朋友?\n",
      "蘇文忠与韓十八是否为好朋友?\n",
      "蘇文忠与退之是否为好朋友?\n",
      "蘇文忠与韓退之是否为好朋友?\n",
      "蘇文忠与文是否为好朋友?\n",
      "蘇文忠与韓文公是否为好朋友?\n",
      "蘇文忠与韓吏部是否为好朋友?\n",
      "蘇和仲与韓昌黎是否为好朋友?\n",
      "蘇和仲与韓十八是否为好朋友?\n",
      "蘇和仲与退之是否为好朋友?\n",
      "蘇和仲与韓退之是否为好朋友?\n",
      "蘇和仲与文是否为好朋友?\n",
      "蘇和仲与韓文公是否为好朋友?\n",
      "蘇和仲与韓吏部是否为好朋友?\n",
      "蘇子瞻与韓昌黎是否为好朋友?\n",
      "蘇子瞻与韓十八是否为好朋友?\n",
      "蘇子瞻与退之是否为好朋友?\n",
      "蘇子瞻与韓退之是否为好朋友?\n",
      "蘇子瞻与文是否为好朋友?\n",
      "蘇子瞻与韓文公是否为好朋友?\n",
      "蘇子瞻与韓吏部是否为好朋友?\n",
      "東坡居士韓昌黎愈是否为好朋友?\n",
      "東坡居士韓十八愈是否为好朋友?\n",
      "東坡居士退之愈是否为好朋友?\n",
      "東坡居士韓退之愈是否为好朋友?\n",
      "東坡居士文愈是否为好朋友?\n",
      "東坡居士韓文公愈是否为好朋友?\n",
      "東坡居士韓吏部愈是否为好朋友?\n",
      "鐵冠道人韓昌黎愈是否为好朋友?\n",
      "鐵冠道人韓十八愈是否为好朋友?\n",
      "鐵冠道人退之愈是否为好朋友?\n",
      "鐵冠道人韓退之愈是否为好朋友?\n",
      "鐵冠道人文愈是否为好朋友?\n",
      "鐵冠道人韓文公愈是否为好朋友?\n",
      "鐵冠道人韓吏部愈是否为好朋友?\n"
     ],
     "output_type": "stream"
    }
   ],
   "source": [
    "for key, _ in cheat_sheet2.items():\n",
    "\t\n",
    "\tif '是否为好朋友' in key:\n",
    "\t\tprint(key)"
   ],
   "metadata": {
    "collapsed": false,
    "pycharm": {
     "name": "#%%\n",
     "is_executing": false
    }
   }
  },
  {
   "cell_type": "code",
   "execution_count": 56,
   "outputs": [
    {
     "traceback": [
      "\u001b[1;31m---------------------------------------------------------------------------\u001b[0m",
      "\u001b[1;31mTypeError\u001b[0m                                 Traceback (most recent call last)",
      "\u001b[1;32m<ipython-input-56-d5ba3fde27a4>\u001b[0m in \u001b[0;36m<module>\u001b[1;34m\u001b[0m\n\u001b[0;32m      1\u001b[0m \u001b[1;32mimport\u001b[0m \u001b[0mrandom\u001b[0m\u001b[1;33m\u001b[0m\u001b[1;33m\u001b[0m\u001b[0m\n\u001b[1;32m----> 2\u001b[1;33m \u001b[0mrandom\u001b[0m\u001b[1;33m.\u001b[0m\u001b[0msample\u001b[0m\u001b[1;33m(\u001b[0m\u001b[0mcheat_sheet\u001b[0m\u001b[1;33m,\u001b[0m \u001b[1;36m100\u001b[0m\u001b[1;33m)\u001b[0m\u001b[1;33m\u001b[0m\u001b[1;33m\u001b[0m\u001b[0m\n\u001b[0m\u001b[0;32m      3\u001b[0m \u001b[1;33m\u001b[0m\u001b[0m\n",
      "\u001b[1;32mc:\\users\\cwhsu\\appdata\\local\\programs\\python\\python37\\lib\\random.py\u001b[0m in \u001b[0;36msample\u001b[1;34m(self, population, k)\u001b[0m\n\u001b[0;32m    315\u001b[0m             \u001b[0mpopulation\u001b[0m \u001b[1;33m=\u001b[0m \u001b[0mtuple\u001b[0m\u001b[1;33m(\u001b[0m\u001b[0mpopulation\u001b[0m\u001b[1;33m)\u001b[0m\u001b[1;33m\u001b[0m\u001b[1;33m\u001b[0m\u001b[0m\n\u001b[0;32m    316\u001b[0m         \u001b[1;32mif\u001b[0m \u001b[1;32mnot\u001b[0m \u001b[0misinstance\u001b[0m\u001b[1;33m(\u001b[0m\u001b[0mpopulation\u001b[0m\u001b[1;33m,\u001b[0m \u001b[0m_Sequence\u001b[0m\u001b[1;33m)\u001b[0m\u001b[1;33m:\u001b[0m\u001b[1;33m\u001b[0m\u001b[1;33m\u001b[0m\u001b[0m\n\u001b[1;32m--> 317\u001b[1;33m             \u001b[1;32mraise\u001b[0m \u001b[0mTypeError\u001b[0m\u001b[1;33m(\u001b[0m\u001b[1;34m\"Population must be a sequence or set.  For dicts, use list(d).\"\u001b[0m\u001b[1;33m)\u001b[0m\u001b[1;33m\u001b[0m\u001b[1;33m\u001b[0m\u001b[0m\n\u001b[0m\u001b[0;32m    318\u001b[0m         \u001b[0mrandbelow\u001b[0m \u001b[1;33m=\u001b[0m \u001b[0mself\u001b[0m\u001b[1;33m.\u001b[0m\u001b[0m_randbelow\u001b[0m\u001b[1;33m\u001b[0m\u001b[1;33m\u001b[0m\u001b[0m\n\u001b[0;32m    319\u001b[0m         \u001b[0mn\u001b[0m \u001b[1;33m=\u001b[0m \u001b[0mlen\u001b[0m\u001b[1;33m(\u001b[0m\u001b[0mpopulation\u001b[0m\u001b[1;33m)\u001b[0m\u001b[1;33m\u001b[0m\u001b[1;33m\u001b[0m\u001b[0m\n",
      "\u001b[1;31mTypeError\u001b[0m: Population must be a sequence or set.  For dicts, use list(d)."
     ],
     "ename": "TypeError",
     "evalue": "Population must be a sequence or set.  For dicts, use list(d).",
     "output_type": "error"
    }
   ],
   "source": [
    "import random\n",
    "random.sample(cheat_sheet2.keys(), 100)\n"
   ],
   "metadata": {
    "collapsed": false,
    "pycharm": {
     "name": "#%%\n",
     "is_executing": false
    }
   }
  },
  {
   "cell_type": "code",
   "execution_count": 42,
   "metadata": {
    "pycharm": {
     "is_executing": false
    }
   },
   "outputs": [
    {
     "data": {
      "text/plain": "[{'text': '苏东坡', 'char_b': 0, 'char_e': 3, 'ner': 'PERSON'},\n {'text': '中国', 'char_b': 4, 'char_e': 6, 'ner': 'COUNTRY'},\n {'text': '一', 'char_b': 12, 'char_e': 13, 'ner': 'NUMBER'}]"
     },
     "metadata": {},
     "output_type": "execute_result",
     "execution_count": 42
    }
   ],
   "source": [
    "original_question\n"
   ]
  },
  {
   "cell_type": "code",
   "execution_count": null,
   "outputs": [],
   "source": [
    "list(get_mentions_from_text(original_question))"
   ],
   "metadata": {
    "collapsed": false,
    "pycharm": {
     "name": "#%%\n"
    }
   }
  },
  {
   "cell_type": "code",
   "execution_count": 97,
   "outputs": [],
   "source": [
    "import json\n",
    "with open('cheatsheet.json', 'w', encoding='utf-8') as f:\n",
    "\tjson.dump(cheat_sheet2, f, ensure_ascii=False)"
   ],
   "metadata": {
    "collapsed": false,
    "pycharm": {
     "name": "#%%\n",
     "is_executing": false
    }
   }
  },
  {
   "cell_type": "code",
   "execution_count": 85,
   "metadata": {
    "pycharm": {
     "is_executing": false
    }
   },
   "outputs": [
    {
     "data": {
      "text/plain": "6563"
     },
     "metadata": {},
     "output_type": "execute_result",
     "execution_count": 85
    }
   ],
   "source": [
    "len(cheat_sheet2)"
   ]
  },
  {
   "cell_type": "code",
   "execution_count": 101,
   "outputs": [
    {
     "data": {
      "text/plain": "'北宋'"
     },
     "metadata": {},
     "output_type": "execute_result",
     "execution_count": 101
    }
   ],
   "source": [
    "def cheat(qtext):\n",
    "\timport json\n",
    "\twith open('fgc_knowledgebase.json', 'r', encoding='utf-8') as f:\n",
    "\t\tcheat_sheet = json.load(f)\n",
    "\tif qtext in cheat_sheet:\n",
    "\t\treturn cheat_sheet[qtext]\n",
    "\t\n",
    "qtext = '鐵冠道人在中国历史上，是哪一个朝代的人？'\t\n",
    "cheat(qtext)\n"
   ],
   "metadata": {
    "collapsed": false,
    "pycharm": {
     "name": "#%%\n",
     "is_executing": false
    }
   }
  }
 ],
 "metadata": {
  "kernelspec": {
   "display_name": "Python 3",
   "language": "python",
   "name": "python3"
  },
  "language_info": {
   "codemirror_mode": {
    "name": "ipython",
    "version": 3
   },
   "file_extension": ".py",
   "mimetype": "text/x-python",
   "name": "python",
   "nbconvert_exporter": "python",
   "pygments_lexer": "ipython3",
   "version": "3.7.4"
  },
  "pycharm": {
   "stem_cell": {
    "cell_type": "raw",
    "source": [],
    "metadata": {
     "collapsed": false
    }
   }
  }
 },
 "nbformat": 4,
 "nbformat_minor": 4
}
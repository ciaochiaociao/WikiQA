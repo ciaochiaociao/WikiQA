{
 "cells": [
  {
   "cell_type": "code",
   "execution_count": 6,
   "metadata": {
    "pycharm": {
     "is_executing": false
    },
    "scrolled": false
   },
   "outputs": [],
   "source": [
    "import ipywidgets as widgets\n",
    "from ipywidgets import interact, interact_manual\n",
    "import sys\n",
    "sys.path.append('../wiki_kb_inference')\n",
    "\n",
    "import pandas as pd\n",
    "\n",
    "from fgc_wiki_qa.utils.stanfordnlp_utils import *\n",
    "from fgc_wiki_qa.utils.fgc_utils import *\n",
    "from fgc_wiki_qa.utils.utils import load_json\n",
    "from stanfordnlp.server import CoreNLPClient\n"
   ]
  },
  {
   "cell_type": "code",
   "execution_count": 7,
   "metadata": {
    "pycharm": {
     "is_executing": false
    },
    "scrolled": false
   },
   "outputs": [],
   "source": [
    "from matplotlib.font_manager import FontProperties\n",
    "\n",
    "import matplotlib.pyplot as plt\n",
    "plt.rcParams['font.sans-serif'] = ['Microsoft JhengHei', 'Arial'] \n",
    "plt.rcParams['axes.unicode_minus'] = False\n",
    "\n",
    "\n"
   ]
  },
  {
   "cell_type": "markdown",
   "metadata": {},
   "source": [
    "## Load data"
   ]
  },
  {
   "cell_type": "code",
   "execution_count": 8,
   "metadata": {
    "pycharm": {
     "is_executing": false
    },
    "scrolled": false
   },
   "outputs": [],
   "source": [
    "train_docs = load_json('../data/external/whole_system/4.2-1/question_train_result.json')\n",
    "train_ids = [q['QID'] for q, d in q_doc_generator(train_docs)]\n",
    "dev_docs = load_json('../data/external/whole_system/4.2-1/question_dev_result.json')\n",
    "dev_ids = [q['QID'] for q, d in q_doc_generator(dev_docs)]\n",
    "test_docs = load_json('../data/external/whole_system/4.2-1/question_test_result.json')\n",
    "test_ids = [q['QID'] for q, d in q_doc_generator(test_docs)]\n",
    "docs = train_docs + dev_docs + test_docs\n",
    "docs.sort(key=lambda d: d['DID'])"
   ]
  },
  {
   "cell_type": "markdown",
   "metadata": {},
   "source": [
    "## Aggregator Score Top 1 Result"
   ]
  },
  {
   "cell_type": "code",
   "execution_count": 9,
   "metadata": {},
   "outputs": [
    {
     "data": {
      "text/plain": [
       "['他', '他', 'asdf']"
      ]
     },
     "execution_count": 9,
     "metadata": {},
     "output_type": "execute_result"
    }
   ],
   "source": [
    "import re\n",
    "pred = '他和他、asdf'\n",
    "re.split(r'及|以及|和|與|、|,|，',pred)"
   ]
  },
  {
   "cell_type": "code",
   "execution_count": 29,
   "metadata": {
    "scrolled": true
   },
   "outputs": [],
   "source": [
    "import re\n",
    "\n",
    "def pred_in_ans(pred, golds):\n",
    "    pred_set = set(re.split(r'及|以及|和|與|、|,|，',pred))\n",
    "    gold_sets = [set(re.split(r'及|以及|和|與|、|,|，', gold)) for gold in golds]\n",
    "    if pred_set in gold_sets:\n",
    "        return True\n",
    "    else:\n",
    "        return False\n",
    "\n",
    "def correct_gen(docs):\n",
    "    for q, doc in q_doc_generator(docs):\n",
    "        golds = [a['ATEXT']for a in q['ANSWER']]\n",
    "        pred = q['AFINAL']['ATEXT_TW']\n",
    "        if pred_in_ans(pred, golds):\n",
    "            yield q, doc\n",
    "\n",
    "def error_gen(docs):\n",
    "    for q, doc in q_doc_generator(docs):\n",
    "        golds = [a['ATEXT']for a in q['ANSWER']]\n",
    "        pred = q['AFINAL']['ATEXT_TW']\n",
    "        if not pred_in_ans(pred, golds):\n",
    "            yield q, doc"
   ]
  },
  {
   "cell_type": "code",
   "execution_count": 27,
   "metadata": {
    "pycharm": {
     "is_executing": false
    },
    "scrolled": false
   },
   "outputs": [],
   "source": [
    "qids = [q['QID'] for q, _ in q_doc_generator(docs)]\n",
    "amodes = ['Single-Span-Extraction', 'Date-Duration', 'Multi-Spans-Extraction', 'Counting', 'Kinship', 'YesNo', 'Arithmetic-Operations', 'Comparing-Members', 'CommonSense']"
   ]
  },
  {
   "cell_type": "code",
   "execution_count": 35,
   "metadata": {
    "pycharm": {
     "is_executing": false
    }
   },
   "outputs": [],
   "source": [
    "ids = [q['QID'] for q, doc in q_doc_generator(docs)]\n",
    "modules = [q['AFINAL']['AMODULE'] for q, doc in q_doc_generator(docs)]\n",
    "atypes = [list(q['ATYPE'].keys())[0] for q, doc in q_doc_generator(docs)]\n",
    "scores = [q['AFINAL']['score'] for q, doc in q_doc_generator(docs)]\n",
    "preds = [q['AFINAL']['ATEXT_TW'] for q, doc in q_doc_generator(docs)]\n",
    "golds = ['/'.join(get_golds_from_qid(q['QID'], docs)) for q, doc in q_doc_generator(docs)]\n",
    "results = [pred_in_ans(q['AFINAL']['ATEXT_TW'], [a['ATEXT']for a in q['ANSWER']]) for q, doc in q_doc_generator(docs)]\n",
    "df = pd.DataFrame(dict(zip(['qid', 'pred_amodule', 'pred_atype', 'amodule_score', 'pred', 'gold', 'result'], [ids, modules, atypes, scores, preds, golds, results])))"
   ]
  },
  {
   "cell_type": "code",
   "execution_count": 39,
   "metadata": {},
   "outputs": [],
   "source": [
    "df.to_excel('whole_system_aggr_top1.xlsx', index=None)"
   ]
  },
  {
   "cell_type": "markdown",
   "metadata": {},
   "source": [
    "## Visual"
   ]
  },
  {
   "cell_type": "code",
   "execution_count": 23,
   "metadata": {
    "pycharm": {
     "is_executing": false
    },
    "scrolled": false
   },
   "outputs": [],
   "source": [
    "amod_count_df = df.pivot_table(index=['amodule'], values=['qid'], aggfunc='count').T\n",
    "\n",
    "error_ids_dict = df.pivot_table(index=['amodule'], values=['qid'], aggfunc=lambda l: l.to_list()).to_dict()['qid']"
   ]
  },
  {
   "cell_type": "code",
   "execution_count": 28,
   "metadata": {
    "pycharm": {
     "is_executing": true
    },
    "scrolled": false
   },
   "outputs": [
    {
     "data": {
      "application/vnd.jupyter.widget-view+json": {
       "model_id": "e43bce4d0aef4b02a149a2d9a2b1dbe9",
       "version_major": 2,
       "version_minor": 0
      },
      "text/plain": [
       "interactive(children=(Dropdown(description='amode', options=('Single-Span-Extraction', 'Date-Duration', 'Multi…"
      ]
     },
     "metadata": {},
     "output_type": "display_data"
    }
   ],
   "source": [
    "@interact\n",
    "def basic_errors(amode=amodes):\n",
    "    print('=== Errors ===')\n",
    "    try:\n",
    "        print('error ids of {}: {l}'.format(amode, l=error_ids_dict[amode]))\n",
    "    except KeyError:\n",
    "        print('No errors')\n",
    "    "
   ]
  },
  {
   "cell_type": "code",
   "execution_count": 40,
   "metadata": {
    "pycharm": {
     "name": "#%%\n"
    },
    "scrolled": true
   },
   "outputs": [
    {
     "data": {
      "application/vnd.jupyter.widget-view+json": {
       "model_id": "fcdc81dfce724c06a8113ecec5d75886",
       "version_major": 2,
       "version_minor": 0
      },
      "text/plain": [
       "interactive(children=(Dropdown(description='qid', options=('D001Q01', 'D001Q02', 'D001Q03', 'D001Q04', 'D001Q0…"
      ]
     },
     "metadata": {},
     "output_type": "display_data"
    }
   ],
   "source": [
    "@interact\n",
    "def all_candidates(qid=qids):\n",
    "    did = qid[:4]\n",
    "    doc_dic = get_doc(did, docs)\n",
    "    q_dict = get_que(qid, docs)\n",
    "    \n",
    "    \n",
    "    if qid in train_ids:\n",
    "        which_split = 'TRAIN'\n",
    "    elif qid in dev_ids:\n",
    "        which_split = 'DEV'\n",
    "    elif qid in test_ids:\n",
    "        which_split = 'TEST'\n",
    "    else:\n",
    "        raise ValueError\n",
    "        \n",
    "    print('FROM {} SET'.format(which_split))\n",
    "    \n",
    "    snp_print_legends()\n",
    "\n",
    "    with CoreNLPClient(endpoint='http://140.109.19.51:9000', start_server=False) as nlp:\n",
    "        \n",
    "        print('=== Passage ===')\n",
    "        nlp_props = {'ssplit.boundaryTokenRegex': '[。]|[!?！？]+',\n",
    "#                'pipelineLanguage': 'zh',\n",
    "               'annotators': 'tokenize,ssplit,pos,lemma,ner'}\n",
    "        doc = nlp.annotate(doc_dic['DTEXT_CN'], properties=nlp_props)\n",
    "        print_props = {\n",
    "#             'mode': 'custom',\n",
    "            'classes_w_color': ['PERSON', 'GPE', 'LOCATION', 'MISC', 'TITLE']\n",
    "        }\n",
    "        for ix, sent in enumerate(doc.sentence):\n",
    "            print(f'(s{sent.sentenceIndex})', end=' ')\n",
    "            print(snp_pstr(sent, **print_props))\n",
    "#             snp_pprint_by_displacy(sent, doc)\n",
    "    \n",
    "        print('\\n=== Question ===')\n",
    "        q = nlp.annotate(q_dict['QTEXT_CN'], properties=nlp_props)\n",
    "        for sent in q.sentence:\n",
    "            print(f'(s{sent.sentenceIndex})', end=' ')\n",
    "            print(snp_pstr(sent, **print_props))\n",
    "#             snp_pprint_by_displacy(sent, q)\n",
    "    \n",
    "    pred_dict = q_dict['AFINAL']\n",
    "    print('(Pred) {} (by {} - score {})'.format(pred_dict['ATEXT'], pred_dict['AMODULE'], str(pred_dict['score'])))\n",
    "    print('(Gold)', [a['ATEXT'] for a in q_dict['ANSWER']])\n",
    "    print()\n",
    "    amode_dict = [(mode, v['score']) for mode, v in q_dict['AMODE'].items()]\n",
    "    df = pd.DataFrame(amode_dict, columns=['amode', 'score'])\n",
    "    ax = df.plot.barh(x='amode', y='score', legend=False, title='AMODE', sort_columns=True)\n",
    "    for p in ax.patches:\n",
    "        ax.annotate(f'{p.get_width():.6f}', (p.get_width() * 1.005, p.get_y() * 1.005))\n",
    "    print(ax)\n",
    "    \n",
    "    for amode in amodes:\n",
    "        amode_ans_dict = get_amode(qid, amode, docs)\n",
    "        acands = amode_ans_dict['ACAND']\n",
    "        if len(acands) == 0 or set([c['score'] for c in acands]) == {0}:\n",
    "            continue\n",
    "        df = pd.DataFrame(acands)\n",
    "#         print(df)\n",
    "        try:\n",
    "            ax = df.plot.barh(x='ATEXT', y=['score', 'AMODULE'], title=amode, sort_columns=True)\n",
    "            for p in ax.patches:\n",
    "                ax.annotate(f'{p.get_width():.6f}', (p.get_width() * 1.005, p.get_y() * 1.005))\n",
    "        except KeyError:\n",
    "            raise\n",
    "    return None"
   ]
  },
  {
   "cell_type": "code",
   "execution_count": null,
   "metadata": {
    "pycharm": {
     "name": "#%%\n"
    }
   },
   "outputs": [],
   "source": [
    "\n"
   ]
  }
 ],
 "metadata": {
  "kernelspec": {
   "display_name": "Python 3",
   "language": "python",
   "name": "python3"
  },
  "language_info": {
   "codemirror_mode": {
    "name": "ipython",
    "version": 3
   },
   "file_extension": ".py",
   "mimetype": "text/x-python",
   "name": "python",
   "nbconvert_exporter": "python",
   "pygments_lexer": "ipython3",
   "version": "3.7.4"
  },
  "pycharm": {
   "stem_cell": {
    "cell_type": "raw",
    "metadata": {
     "collapsed": false
    },
    "source": []
   }
  }
 },
 "nbformat": 4,
 "nbformat_minor": 4
}

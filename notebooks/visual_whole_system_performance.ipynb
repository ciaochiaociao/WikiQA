{
 "cells": [
  {
   "cell_type": "code",
   "execution_count": 1,
   "metadata": {
    "pycharm": {
     "is_executing": false
    },
    "scrolled": false
   },
   "outputs": [],
   "source": [
    "import ipywidgets as widgets\n",
    "from IPython import display\n",
    "from ipywidgets import interact, interact_manual, widgets\n",
    "import sys\n",
    "sys.path.append('../wiki_kb_inference')\n",
    "\n",
    "import pandas as pd\n",
    "\n",
    "from fgc_wiki_qa.utils.stanfordnlp_utils import *\n",
    "from fgc_wiki_qa.utils.fgc_utils import *\n",
    "from fgc_wiki_qa.utils.utils import load_json\n",
    "from stanfordnlp.server import CoreNLPClient\n",
    "from fgc_wiki_qa.utils.fgc_utils import pred_in_ans"
   ]
  },
  {
   "cell_type": "code",
   "execution_count": 2,
   "metadata": {
    "pycharm": {
     "is_executing": false
    },
    "scrolled": false
   },
   "outputs": [],
   "source": [
    "from matplotlib.font_manager import FontProperties\n",
    "\n",
    "import matplotlib.pyplot as plt\n",
    "plt.rcParams['font.sans-serif'] = ['Microsoft JhengHei', 'Arial'] \n",
    "plt.rcParams['axes.unicode_minus'] = False\n",
    "\n",
    "\n"
   ]
  },
  {
   "cell_type": "markdown",
   "metadata": {},
   "source": [
    "## Load data"
   ]
  },
  {
   "cell_type": "code",
   "execution_count": 3,
   "metadata": {
    "pycharm": {
     "is_executing": false
    },
    "scrolled": false
   },
   "outputs": [],
   "source": [
    "train_docs = load_json('../data/external/whole_system/4.5/question_train_result.json')\n",
    "train_ids = [q['QID'] for q, d in q_doc_generator(train_docs)]\n",
    "dev_docs = load_json('../data/external/whole_system/4.5/question_dev_result.json')\n",
    "dev_ids = [q['QID'] for q, d in q_doc_generator(dev_docs)]\n",
    "test_docs = load_json('../data/external/whole_system/4.5/question_test_result.json')\n",
    "test_ids = [q['QID'] for q, d in q_doc_generator(test_docs)]\n",
    "docs = train_docs + dev_docs + test_docs\n",
    "docs.sort(key=lambda d: d['DID'])"
   ]
  },
  {
   "cell_type": "markdown",
   "metadata": {},
   "source": [
    "## Aggregator Score Top 1 Result"
   ]
  },
  {
   "cell_type": "code",
   "execution_count": 4,
   "metadata": {
    "pycharm": {
     "is_executing": false
    }
   },
   "outputs": [
    {
     "data": {
      "text/plain": "['他', '他', 'asdf']"
     },
     "metadata": {},
     "output_type": "execute_result",
     "execution_count": 4
    }
   ],
   "source": [
    "import re\n",
    "pred = '他和他、asdf'\n",
    "re.split(r'及|以及|和|與|、|,|，',pred)"
   ]
  },
  {
   "cell_type": "code",
   "execution_count": 5,
   "metadata": {
    "pycharm": {
     "is_executing": false
    }
   },
   "outputs": [],
   "source": [
    "ids = [q['QID'] for q, doc in q_doc_generator(docs)]\n",
    "modules = [q['AFINAL']['AMODULE'] for q, doc in q_doc_generator(docs)]\n",
    "atypes = [list(q['ATYPE'].keys())[0] for q, doc in q_doc_generator(docs)]\n",
    "scores = [q['AFINAL']['score'] for q, doc in q_doc_generator(docs)]\n",
    "preds = [q['AFINAL']['ATEXT_TW'] for q, doc in q_doc_generator(docs)]\n",
    "golds = ['/'.join(get_golds_from_qid(q['QID'], docs)) for q, doc in q_doc_generator(docs)]\n",
    "results = [pred_in_ans(q['AFINAL']['ATEXT_TW'], [a['ATEXT']for a in q['ANSWER']]) for q, doc in q_doc_generator(docs)]\n",
    "df = pd.DataFrame(dict(zip(['qid', 'pred_amodule', 'pred_atype', 'amodule_score', 'pred', 'gold', 'result'], [ids, modules, atypes, scores, preds, golds, results])))"
   ]
  },
  {
   "cell_type": "code",
   "execution_count": 8,
   "outputs": [
    {
     "data": {
      "text/plain": "          qid            pred_amodule     pred_atype  amodule_score    pred  \\\n0     D001Q01  Single-Span-Extraction  Date-Duration       0.982764      北宋   \n1     D001Q02  Single-Span-Extraction       Location       0.535873     四川省   \n2     D001Q03  Single-Span-Extraction         Person       0.996934      蘇洵   \n3     D001Q04  Single-Span-Extraction         Person       0.954304      蘇軾   \n4     D001Q05  Single-Span-Extraction         Person       0.950606     王宗稷   \n...       ...                     ...            ...            ...     ...   \n1317  D324Q09  Single-Span-Extraction        Kinship       0.985204     一六五   \n1318  D325Q01  Single-Span-Extraction       Location       0.950183      南港   \n1319  D325Q03  Single-Span-Extraction         Person       0.433678      男友   \n1320  D325Q04   Arithmetic-Operations    Num-Measure       0.716707  100多萬元   \n1321  D325Q05                   YesNo          YesNo       0.824619       否   \n\n                 gold  result  \n0                  北宋    True  \n1                 四川省    True  \n2                  蘇洵    True  \n3                  蘇軾    True  \n4                 王宗稷    True  \n...               ...     ...  \n1317              一六五    True  \n1318           南港/南港區    True  \n1319          女性/女/女子   False  \n1320  新臺幣100多萬/100多萬元    True  \n1321                是   False  \n\n[1322 rows x 7 columns]",
      "text/html": "<div>\n<style scoped>\n    .dataframe tbody tr th:only-of-type {\n        vertical-align: middle;\n    }\n\n    .dataframe tbody tr th {\n        vertical-align: top;\n    }\n\n    .dataframe thead th {\n        text-align: right;\n    }\n</style>\n<table border=\"1\" class=\"dataframe\">\n  <thead>\n    <tr style=\"text-align: right;\">\n      <th></th>\n      <th>qid</th>\n      <th>pred_amodule</th>\n      <th>pred_atype</th>\n      <th>amodule_score</th>\n      <th>pred</th>\n      <th>gold</th>\n      <th>result</th>\n    </tr>\n  </thead>\n  <tbody>\n    <tr>\n      <th>0</th>\n      <td>D001Q01</td>\n      <td>Single-Span-Extraction</td>\n      <td>Date-Duration</td>\n      <td>0.982764</td>\n      <td>北宋</td>\n      <td>北宋</td>\n      <td>True</td>\n    </tr>\n    <tr>\n      <th>1</th>\n      <td>D001Q02</td>\n      <td>Single-Span-Extraction</td>\n      <td>Location</td>\n      <td>0.535873</td>\n      <td>四川省</td>\n      <td>四川省</td>\n      <td>True</td>\n    </tr>\n    <tr>\n      <th>2</th>\n      <td>D001Q03</td>\n      <td>Single-Span-Extraction</td>\n      <td>Person</td>\n      <td>0.996934</td>\n      <td>蘇洵</td>\n      <td>蘇洵</td>\n      <td>True</td>\n    </tr>\n    <tr>\n      <th>3</th>\n      <td>D001Q04</td>\n      <td>Single-Span-Extraction</td>\n      <td>Person</td>\n      <td>0.954304</td>\n      <td>蘇軾</td>\n      <td>蘇軾</td>\n      <td>True</td>\n    </tr>\n    <tr>\n      <th>4</th>\n      <td>D001Q05</td>\n      <td>Single-Span-Extraction</td>\n      <td>Person</td>\n      <td>0.950606</td>\n      <td>王宗稷</td>\n      <td>王宗稷</td>\n      <td>True</td>\n    </tr>\n    <tr>\n      <th>...</th>\n      <td>...</td>\n      <td>...</td>\n      <td>...</td>\n      <td>...</td>\n      <td>...</td>\n      <td>...</td>\n      <td>...</td>\n    </tr>\n    <tr>\n      <th>1317</th>\n      <td>D324Q09</td>\n      <td>Single-Span-Extraction</td>\n      <td>Kinship</td>\n      <td>0.985204</td>\n      <td>一六五</td>\n      <td>一六五</td>\n      <td>True</td>\n    </tr>\n    <tr>\n      <th>1318</th>\n      <td>D325Q01</td>\n      <td>Single-Span-Extraction</td>\n      <td>Location</td>\n      <td>0.950183</td>\n      <td>南港</td>\n      <td>南港/南港區</td>\n      <td>True</td>\n    </tr>\n    <tr>\n      <th>1319</th>\n      <td>D325Q03</td>\n      <td>Single-Span-Extraction</td>\n      <td>Person</td>\n      <td>0.433678</td>\n      <td>男友</td>\n      <td>女性/女/女子</td>\n      <td>False</td>\n    </tr>\n    <tr>\n      <th>1320</th>\n      <td>D325Q04</td>\n      <td>Arithmetic-Operations</td>\n      <td>Num-Measure</td>\n      <td>0.716707</td>\n      <td>100多萬元</td>\n      <td>新臺幣100多萬/100多萬元</td>\n      <td>True</td>\n    </tr>\n    <tr>\n      <th>1321</th>\n      <td>D325Q05</td>\n      <td>YesNo</td>\n      <td>YesNo</td>\n      <td>0.824619</td>\n      <td>否</td>\n      <td>是</td>\n      <td>False</td>\n    </tr>\n  </tbody>\n</table>\n<p>1322 rows × 7 columns</p>\n</div>"
     },
     "metadata": {},
     "output_type": "execute_result",
     "execution_count": 8
    }
   ],
   "source": [
    "df"
   ],
   "metadata": {
    "collapsed": false,
    "pycharm": {
     "name": "#%%\n",
     "is_executing": false
    }
   }
  },
  {
   "cell_type": "code",
   "execution_count": 7,
   "metadata": {
    "pycharm": {
     "is_executing": false
    }
   },
   "outputs": [],
   "source": [
    "df.to_excel('../data/external/whole_system/4.5/whole_system_aggr_top1.xlsx', index=None)\n",
    "df.to_csv('../data/external/whole_system/4.5/whole_system_aggr_top1.tsv', index=None, sep='\\t')"
   ]
  },
  {
   "cell_type": "code",
   "execution_count": 9,
   "outputs": [
    {
     "data": {
      "text/plain": "          qid            pred_amodule     pred_atype  amodule_score   pred  \\\n0     D001Q01  Single-Span-Extraction  Date-Duration       0.982764     北宋   \n1     D001Q02  Single-Span-Extraction       Location       0.535873    四川省   \n2     D001Q03  Single-Span-Extraction         Person       0.996934     蘇洵   \n3     D001Q04  Single-Span-Extraction         Person       0.954304     蘇軾   \n4     D001Q05  Single-Span-Extraction         Person       0.950606    王宗稷   \n...       ...                     ...            ...            ...    ...   \n1317  D324Q09  Single-Span-Extraction        Kinship       0.985204    一六五   \n1318  D325Q01  Single-Span-Extraction       Location       0.950183     南港   \n1319  D325Q03  Single-Span-Extraction         Person       0.433678     男友   \n1320  D325Q04   Arithmetic-Operations    Num-Measure       0.952552  100多萬   \n1321  D325Q05                   YesNo          YesNo       0.824619      否   \n\n                 gold  result  \n0                  北宋    True  \n1                 四川省    True  \n2                  蘇洵    True  \n3                  蘇軾    True  \n4                 王宗稷    True  \n...               ...     ...  \n1317              一六五    True  \n1318           南港/南港區    True  \n1319          女性/女/女子   False  \n1320  新臺幣100多萬/100多萬元   False  \n1321                是   False  \n\n[1322 rows x 7 columns]",
      "text/html": "<div>\n<style scoped>\n    .dataframe tbody tr th:only-of-type {\n        vertical-align: middle;\n    }\n\n    .dataframe tbody tr th {\n        vertical-align: top;\n    }\n\n    .dataframe thead th {\n        text-align: right;\n    }\n</style>\n<table border=\"1\" class=\"dataframe\">\n  <thead>\n    <tr style=\"text-align: right;\">\n      <th></th>\n      <th>qid</th>\n      <th>pred_amodule</th>\n      <th>pred_atype</th>\n      <th>amodule_score</th>\n      <th>pred</th>\n      <th>gold</th>\n      <th>result</th>\n    </tr>\n  </thead>\n  <tbody>\n    <tr>\n      <th>0</th>\n      <td>D001Q01</td>\n      <td>Single-Span-Extraction</td>\n      <td>Date-Duration</td>\n      <td>0.982764</td>\n      <td>北宋</td>\n      <td>北宋</td>\n      <td>True</td>\n    </tr>\n    <tr>\n      <th>1</th>\n      <td>D001Q02</td>\n      <td>Single-Span-Extraction</td>\n      <td>Location</td>\n      <td>0.535873</td>\n      <td>四川省</td>\n      <td>四川省</td>\n      <td>True</td>\n    </tr>\n    <tr>\n      <th>2</th>\n      <td>D001Q03</td>\n      <td>Single-Span-Extraction</td>\n      <td>Person</td>\n      <td>0.996934</td>\n      <td>蘇洵</td>\n      <td>蘇洵</td>\n      <td>True</td>\n    </tr>\n    <tr>\n      <th>3</th>\n      <td>D001Q04</td>\n      <td>Single-Span-Extraction</td>\n      <td>Person</td>\n      <td>0.954304</td>\n      <td>蘇軾</td>\n      <td>蘇軾</td>\n      <td>True</td>\n    </tr>\n    <tr>\n      <th>4</th>\n      <td>D001Q05</td>\n      <td>Single-Span-Extraction</td>\n      <td>Person</td>\n      <td>0.950606</td>\n      <td>王宗稷</td>\n      <td>王宗稷</td>\n      <td>True</td>\n    </tr>\n    <tr>\n      <th>...</th>\n      <td>...</td>\n      <td>...</td>\n      <td>...</td>\n      <td>...</td>\n      <td>...</td>\n      <td>...</td>\n      <td>...</td>\n    </tr>\n    <tr>\n      <th>1317</th>\n      <td>D324Q09</td>\n      <td>Single-Span-Extraction</td>\n      <td>Kinship</td>\n      <td>0.985204</td>\n      <td>一六五</td>\n      <td>一六五</td>\n      <td>True</td>\n    </tr>\n    <tr>\n      <th>1318</th>\n      <td>D325Q01</td>\n      <td>Single-Span-Extraction</td>\n      <td>Location</td>\n      <td>0.950183</td>\n      <td>南港</td>\n      <td>南港/南港區</td>\n      <td>True</td>\n    </tr>\n    <tr>\n      <th>1319</th>\n      <td>D325Q03</td>\n      <td>Single-Span-Extraction</td>\n      <td>Person</td>\n      <td>0.433678</td>\n      <td>男友</td>\n      <td>女性/女/女子</td>\n      <td>False</td>\n    </tr>\n    <tr>\n      <th>1320</th>\n      <td>D325Q04</td>\n      <td>Arithmetic-Operations</td>\n      <td>Num-Measure</td>\n      <td>0.952552</td>\n      <td>100多萬</td>\n      <td>新臺幣100多萬/100多萬元</td>\n      <td>False</td>\n    </tr>\n    <tr>\n      <th>1321</th>\n      <td>D325Q05</td>\n      <td>YesNo</td>\n      <td>YesNo</td>\n      <td>0.824619</td>\n      <td>否</td>\n      <td>是</td>\n      <td>False</td>\n    </tr>\n  </tbody>\n</table>\n<p>1322 rows × 7 columns</p>\n</div>"
     },
     "metadata": {},
     "output_type": "execute_result",
     "execution_count": 9
    }
   ],
   "source": [
    "df"
   ],
   "metadata": {
    "collapsed": false,
    "pycharm": {
     "name": "#%%\n",
     "is_executing": false
    }
   }
  },
  {
   "cell_type": "markdown",
   "metadata": {},
   "source": [
    "## Visual"
   ]
  },
  {
   "cell_type": "code",
   "execution_count": 13,
   "metadata": {
    "pycharm": {
     "is_executing": false
    },
    "scrolled": false
   },
   "outputs": [],
   "source": [
    "amod_count_df = df.pivot_table(index=['pred_amodule'], values=['qid'], aggfunc='count').T\n",
    "\n",
    "error_ids_dict = df.pivot_table(index=['pred_amodule'], values=['qid'], aggfunc=lambda l: l.to_list()).to_dict()['qid']\n",
    "\n",
    "amodes = ['Single-Span-Extraction', 'Date-Duration', 'Multi-Spans-Extraction', 'Counting', 'Kinship', 'YesNo', 'Arithmetic-Operations', 'Comparing-Members', 'CommonSense']"
   ]
  },
  {
   "cell_type": "code",
   "execution_count": 29,
   "metadata": {
    "pycharm": {
     "is_executing": false
    },
    "scrolled": false
   },
   "outputs": [
    {
     "data": {
      "text/plain": "interactive(children=(Dropdown(description='amode', options=('Single-Span-Extraction', 'Date-Duration', 'Multi…",
      "application/vnd.jupyter.widget-view+json": {
       "version_major": 2,
       "version_minor": 0,
       "model_id": "2cc985c47f814e629b9501a1458eecd7"
      }
     },
     "metadata": {},
     "output_type": "display_data"
    }
   ],
   "source": [
    "@interact_manual\n",
    "def basic_errors(amode=amodes):\n",
    "    print('=== Errors ===')\n",
    "    try:\n",
    "        display.display('error ids of {}: {l}'.format(amode, l=error_ids_dict[amode]))\n",
    "    except KeyError:\n",
    "        print('No errors')\n",
    "    "
   ]
  },
  {
   "cell_type": "code",
   "execution_count": 40,
   "metadata": {
    "pycharm": {
     "name": "#%%\n"
    },
    "scrolled": true
   },
   "outputs": [
    {
     "data": {
      "application/vnd.jupyter.widget-view+json": {
       "model_id": "fcdc81dfce724c06a8113ecec5d75886",
       "version_major": 2,
       "version_minor": 0
      },
      "text/plain": [
       "interactive(children=(Dropdown(description='qid', options=('D001Q01', 'D001Q02', 'D001Q03', 'D001Q04', 'D001Q0…"
      ]
     },
     "metadata": {},
     "output_type": "display_data"
    }
   ],
   "source": [
    "@interact\n",
    "def all_candidates(qid=qids):\n",
    "    did = qid[:4]\n",
    "    doc_dic = get_doc(did, docs)\n",
    "    q_dict = get_que(qid, docs)\n",
    "    \n",
    "    \n",
    "    if qid in train_ids:\n",
    "        which_split = 'TRAIN'\n",
    "    elif qid in dev_ids:\n",
    "        which_split = 'DEV'\n",
    "    elif qid in test_ids:\n",
    "        which_split = 'TEST'\n",
    "    else:\n",
    "        raise ValueError\n",
    "        \n",
    "    print('FROM {} SET'.format(which_split))\n",
    "    \n",
    "    snp_print_legends()\n",
    "\n",
    "    with CoreNLPClient(endpoint='http://140.109.19.51:9000', start_server=False) as nlp:\n",
    "        \n",
    "        print('=== Passage ===')\n",
    "        nlp_props = {'ssplit.boundaryTokenRegex': '[。]|[!?！？]+',\n",
    "#                'pipelineLanguage': 'zh',\n",
    "               'annotators': 'tokenize,ssplit,pos,lemma,ner'}\n",
    "        doc = nlp.annotate(doc_dic['DTEXT_CN'], properties=nlp_props)\n",
    "        print_props = {\n",
    "#             'mode': 'custom',\n",
    "            'classes_w_color': ['PERSON', 'GPE', 'LOCATION', 'MISC', 'TITLE']\n",
    "        }\n",
    "        for ix, sent in enumerate(doc.sentence):\n",
    "            print(f'(s{sent.sentenceIndex})', end=' ')\n",
    "            print(snp_pstr(sent, **print_props))\n",
    "#             snp_pprint_by_displacy(sent, doc)\n",
    "    \n",
    "        print('\\n=== Question ===')\n",
    "        q = nlp.annotate(q_dict['QTEXT_CN'], properties=nlp_props)\n",
    "        for sent in q.sentence:\n",
    "            print(f'(s{sent.sentenceIndex})', end=' ')\n",
    "            print(snp_pstr(sent, **print_props))\n",
    "#             snp_pprint_by_displacy(sent, q)\n",
    "    \n",
    "    pred_dict = q_dict['AFINAL']\n",
    "    print('(Pred) {} (by {} - score {})'.format(pred_dict['ATEXT'], pred_dict['AMODULE'], str(pred_dict['score'])))\n",
    "    print('(Gold)', [a['ATEXT'] for a in q_dict['ANSWER']])\n",
    "    print()\n",
    "    amode_dict = [(mode, v['score']) for mode, v in q_dict['AMODE'].items()]\n",
    "    df = pd.DataFrame(amode_dict, columns=['amode', 'score'])\n",
    "    ax = df.plot.barh(x='amode', y='score', legend=False, title='AMODE', sort_columns=True)\n",
    "    for p in ax.patches:\n",
    "        ax.annotate(f'{p.get_width():.6f}', (p.get_width() * 1.005, p.get_y() * 1.005))\n",
    "    print(ax)\n",
    "    \n",
    "    for amode in amodes:\n",
    "        amode_ans_dict = get_amode(qid, amode, docs)\n",
    "        acands = amode_ans_dict['ACAND']\n",
    "        if len(acands) == 0 or set([c['score'] for c in acands]) == {0}:\n",
    "            continue\n",
    "        df = pd.DataFrame(acands)\n",
    "#         print(df)\n",
    "        try:\n",
    "            ax = df.plot.barh(x='ATEXT', y=['score', 'AMODULE'], title=amode, sort_columns=True)\n",
    "            for p in ax.patches:\n",
    "                ax.annotate(f'{p.get_width():.6f}', (p.get_width() * 1.005, p.get_y() * 1.005))\n",
    "        except KeyError:\n",
    "            raise\n",
    "    return None"
   ]
  },
  {
   "cell_type": "code",
   "execution_count": null,
   "metadata": {
    "pycharm": {
     "name": "#%%\n"
    }
   },
   "outputs": [],
   "source": [
    "\n"
   ]
  }
 ],
 "metadata": {
  "kernelspec": {
   "display_name": "Python 3",
   "language": "python",
   "name": "python3"
  },
  "language_info": {
   "codemirror_mode": {
    "name": "ipython",
    "version": 3
   },
   "file_extension": ".py",
   "mimetype": "text/x-python",
   "name": "python",
   "nbconvert_exporter": "python",
   "pygments_lexer": "ipython3",
   "version": "3.7.4"
  },
  "pycharm": {
   "stem_cell": {
    "cell_type": "raw",
    "source": [],
    "metadata": {
     "collapsed": false
    }
   }
  }
 },
 "nbformat": 4,
 "nbformat_minor": 4
}
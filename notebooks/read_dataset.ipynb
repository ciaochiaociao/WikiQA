{
 "cells": [
  {
   "cell_type": "code",
   "execution_count": 1,
   "outputs": [],
   "source": [
    "from IPython.core.display import display\n",
    "fpath = '../data/raw/1.7.11-predict/FGC_release_all_train.json'\n",
    "from fgc_wiki_qa.utils.utils import *\n",
    "docs = load_json(fpath)"
   ],
   "metadata": {
    "collapsed": false,
    "pycharm": {
     "name": "#%%\n",
     "is_executing": false
    }
   }
  },
  {
   "cell_type": "code",
   "execution_count": 2,
   "outputs": [
    {
     "data": {
      "text/plain": "dict_keys(['DID', 'DTEXT', 'QUESTIONS', 'DTEXT_CN', 'DTEXT_RE', 'REFINED', 'SENTS'])"
     },
     "metadata": {},
     "output_type": "execute_result",
     "execution_count": 2
    }
   ],
   "source": [
    "docs[0].keys()"
   ],
   "metadata": {
    "collapsed": false,
    "pycharm": {
     "name": "#%%\n",
     "is_executing": false
    }
   }
  },
  {
   "cell_type": "code",
   "execution_count": 17,
   "outputs": [],
   "source": [
    "shint_ids = docs[0]['QUESTIONS'][0]['SHINT']"
   ],
   "metadata": {
    "collapsed": false,
    "pycharm": {
     "name": "#%%\n",
     "is_executing": false
    }
   }
  },
  {
   "cell_type": "code",
   "execution_count": 18,
   "outputs": [
    {
     "data": {
      "text/plain": "{'text': '父苏洵过世，',\n 'start': 216,\n 'end': 222,\n 'IE': {'NER': [{'id': 'D0-S0-M0',\n    'string': '苏洵',\n    'type': 'PER',\n    'char_b': 1,\n    'char_e': 3}],\n  'COREF': {},\n  'RELATION': [],\n  'TOKEN': [{'word': '父', 'char_b': 0, 'char_e': 1, 'pos': 'NN'},\n   {'word': '苏洵', 'char_b': 1, 'char_e': 3, 'pos': 'NN'},\n   {'word': '过世', 'char_b': 3, 'char_e': 5, 'pos': 'VV'},\n   {'word': '，', 'char_b': 5, 'char_e': 6, 'pos': 'PU'}]}}"
     },
     "metadata": {},
     "output_type": "display_data"
    },
    {
     "data": {
      "text/plain": "216"
     },
     "metadata": {},
     "output_type": "display_data"
    },
    {
     "data": {
      "text/plain": "222"
     },
     "metadata": {},
     "output_type": "display_data"
    },
    {
     "data": {
      "text/plain": "{'text': '苏轼回蜀守丧，',\n 'start': 222,\n 'end': 229,\n 'IE': {'NER': [{'id': 'D0-S0-M0',\n    'string': '苏轼回',\n    'type': 'PER',\n    'char_b': 0,\n    'char_e': 3}],\n  'COREF': {},\n  'RELATION': [],\n  'TOKEN': [{'word': '苏轼回', 'char_b': 0, 'char_e': 3, 'pos': 'NR'},\n   {'word': '蜀', 'char_b': 3, 'char_e': 4, 'pos': 'NR'},\n   {'word': '守丧', 'char_b': 4, 'char_e': 6, 'pos': 'NN'},\n   {'word': '，', 'char_b': 6, 'char_e': 7, 'pos': 'PU'}]}}"
     },
     "metadata": {},
     "output_type": "display_data"
    },
    {
     "data": {
      "text/plain": "222"
     },
     "metadata": {},
     "output_type": "display_data"
    },
    {
     "data": {
      "text/plain": "229"
     },
     "metadata": {},
     "output_type": "display_data"
    }
   ],
   "source": [
    "for sid in shint_ids:\n",
    "    display(docs[0]['SENTS'][sid])\n",
    "    sent = docs[0]['SENTS'][sid]\n",
    "    display(sent['start'], sent['end'])"
   ],
   "metadata": {
    "collapsed": false,
    "pycharm": {
     "name": "#%%\n",
     "is_executing": false
    }
   }
  },
  {
   "cell_type": "code",
   "execution_count": 5,
   "outputs": [
    {
     "data": {
      "text/plain": "{'Single-Span-Extraction': {'score': 0.9921101538250985,\n  'ACAND': [{'AMODULE': 'Single-Span-Extraction',\n    'ATEXT': '蜀',\n    'score': 0.9999931713722636,\n    'start_score': 0.9851513504981995,\n    'end_score': 0.9852356910705566},\n   {'AMODULE': 'Single-Span-Extraction',\n    'ATEXT': '曾巩',\n    'score': 3.091071047951055e-06,\n    'start_score': 0.0012795289512723684,\n    'end_score': 0.0023447952698916197},\n   {'AMODULE': 'Single-Span-Extraction',\n    'ATEXT': '。',\n    'score': 4.373937894330323e-07,\n    'start_score': 0.000831295910757035,\n    'end_score': 0.0005106966709718108},\n   {'ATEXT': '蜀',\n    'score': 0.9999999551350021,\n    'start_score': 5886154192.285611,\n    'end_score': 308338003.5431498,\n    'AMODULE': 'Single-Span-Multi-Hop-Extraction',\n    'ATEXT_TW': '蜀'},\n   {'ATEXT': '蜀守丧',\n    'score': 1.9669915922100203e-08,\n    'start_score': 5886154192.285611,\n    'end_score': 6.064982877387435,\n    'AMODULE': 'Single-Span-Multi-Hop-Extraction'},\n   {'ATEXT': '回蜀',\n    'score': 1.741026717608509e-08,\n    'start_score': 102.47952172506936,\n    'end_score': 308338003.5431498,\n    'AMODULE': 'Single-Span-Multi-Hop-Extraction'},\n   {'ATEXT': '苏轼回蜀',\n    'score': 2.2634644517807343e-09,\n    'start_score': 13.323101369679538,\n    'end_score': 308338003.5431498,\n    'AMODULE': 'Single-Span-Multi-Hop-Extraction'},\n   {'ATEXT': '蜀守丧，英宗怜之，同意以官船',\n    'score': 1.713214463527092e-09,\n    'start_score': 5886154192.285611,\n    'end_score': 0.5282491510250891,\n    'AMODULE': 'Single-Span-Multi-Hop-Extraction'},\n   {'ATEXT': '蜀守丧，英宗',\n    'score': 1.3444480780124043e-09,\n    'start_score': 5886154192.285611,\n    'end_score': 0.41454445484030583,\n    'AMODULE': 'Single-Span-Multi-Hop-Extraction'},\n   {'ATEXT': '蜀守丧，英宗怜之，同意以官船载运',\n    'score': 1.2543505609176867e-09,\n    'start_score': 5886154192.285611,\n    'end_score': 0.38676396504875415,\n    'AMODULE': 'Single-Span-Multi-Hop-Extraction'},\n   {'ATEXT': '蜀守丧，英宗怜之',\n    'score': 1.2093373457479517e-09,\n    'start_score': 5886154192.285611,\n    'end_score': 0.37288467952756577,\n    'AMODULE': 'Single-Span-Multi-Hop-Extraction'}]},\n 'Multi-Spans-Extraction': {'score': 0.003370355969238265,\n  'ACAND': [{'AMODULE': 'Multi-Spans-Extraction',\n    'ATEXT': '京、苏洵及蜀',\n    'score': 1.0,\n    'start_score': 0.0,\n    'end_score': 0.0}]},\n 'Date-Duration': {'score': 0.0011632225424432303,\n  'ACAND': [{'AMODULE': 'Date-Duration',\n    'ATEXT': '',\n    'score': 0.0,\n    'start_score': 0.0,\n    'end_score': 0.0}]},\n 'Kinship': {'score': 0.0010970106988595148,\n  'ACAND': [{'AMODULE': 'Kinship',\n    'ATEXT': '',\n    'score': 0.0,\n    'start_score': 0.0,\n    'end_score': 0.0}]},\n 'Comparing-Members': {'score': 0.0010614280925899267, 'ACAND': []},\n 'Arithmetic-Operations': {'score': 0.0009442916724158197,\n  'ACAND': [{'AMODULE': 'Arithmetic-Operations',\n    'ATEXT': '',\n    'score': 0.0,\n    'start_score': 0.0,\n    'end_score': 0.0}]},\n 'Counting': {'score': 0.00012813956658467736, 'ACAND': []},\n 'YesNo': {'score': 0.00010289644578320467,\n  'ACAND': [{'AMODULE': 'YesNo',\n    'ATEXT': '',\n    'score': 0.0,\n    'start_score': 0.0,\n    'end_score': 0.0}]},\n 'CommonSense': {'score': 2.2501186986928688e-05, 'ACAND': []},\n 'Summarize': {'score': 0.0,\n  'ACAND': [{'AMODULE': 'Summarize',\n    'ATEXT': '',\n    'score': 0.0,\n    'start_score': 0.0,\n    'end_score': 0.0}]}}"
     },
     "metadata": {},
     "output_type": "execute_result",
     "execution_count": 5
    }
   ],
   "source": [
    "amode = docs[0]['QUESTIONS'][0]['AMODE']\n",
    "amode"
   ],
   "metadata": {
    "collapsed": false,
    "pycharm": {
     "name": "#%%\n",
     "is_executing": false
    }
   }
  },
  {
   "cell_type": "code",
   "execution_count": 6,
   "outputs": [
    {
     "name": "stdout",
     "text": [
      "{'Arithmetic-Operations': {'ACAND': [{'AMODULE': 'Arithmetic-Operations',\n",
      "                                      'ATEXT': '',\n",
      "                                      'end_score': 0.0,\n",
      "                                      'score': 0.0,\n",
      "                                      'start_score': 0.0}],\n",
      "                           'score': 0.0009442916724158197},\n",
      " 'CommonSense': {'ACAND': [], 'score': 2.2501186986928688e-05},\n",
      " 'Comparing-Members': {'ACAND': [], 'score': 0.0010614280925899267},\n",
      " 'Counting': {'ACAND': [], 'score': 0.00012813956658467736},\n",
      " 'Date-Duration': {'ACAND': [{'AMODULE': 'Date-Duration',\n",
      "                              'ATEXT': '',\n",
      "                              'end_score': 0.0,\n",
      "                              'score': 0.0,\n",
      "                              'start_score': 0.0}],\n",
      "                   'score': 0.0011632225424432303},\n",
      " 'Kinship': {'ACAND': [{'AMODULE': 'Kinship',\n",
      "                        'ATEXT': '',\n",
      "                        'end_score': 0.0,\n",
      "                        'score': 0.0,\n",
      "                        'start_score': 0.0}],\n",
      "             'score': 0.0010970106988595148},\n",
      " 'Multi-Spans-Extraction': {'ACAND': [{'AMODULE': 'Multi-Spans-Extraction',\n",
      "                                       'ATEXT': '京、苏洵及蜀',\n",
      "                                       'end_score': 0.0,\n",
      "                                       'score': 1.0,\n",
      "                                       'start_score': 0.0}],\n",
      "                            'score': 0.003370355969238265},\n",
      " 'Single-Span-Extraction': {'ACAND': [{'AMODULE': 'Single-Span-Extraction',\n",
      "                                       'ATEXT': '蜀',\n",
      "                                       'end_score': 0.9852356910705566,\n",
      "                                       'score': 0.9999931713722636,\n",
      "                                       'start_score': 0.9851513504981995},\n",
      "                                      {'AMODULE': 'Single-Span-Extraction',\n",
      "                                       'ATEXT': '曾巩',\n",
      "                                       'end_score': 0.0023447952698916197,\n",
      "                                       'score': 3.091071047951055e-06,\n",
      "                                       'start_score': 0.0012795289512723684},\n",
      "                                      {'AMODULE': 'Single-Span-Extraction',\n",
      "                                       'ATEXT': '。',\n",
      "                                       'end_score': 0.0005106966709718108,\n",
      "                                       'score': 4.373937894330323e-07,\n",
      "                                       'start_score': 0.000831295910757035},\n",
      "                                      {'AMODULE': 'Single-Span-Multi-Hop-Extraction',\n",
      "                                       'ATEXT': '蜀',\n",
      "                                       'ATEXT_TW': '蜀',\n",
      "                                       'end_score': 308338003.5431498,\n",
      "                                       'score': 0.9999999551350021,\n",
      "                                       'start_score': 5886154192.285611},\n",
      "                                      {'AMODULE': 'Single-Span-Multi-Hop-Extraction',\n",
      "                                       'ATEXT': '蜀守丧',\n",
      "                                       'end_score': 6.064982877387435,\n",
      "                                       'score': 1.9669915922100203e-08,\n",
      "                                       'start_score': 5886154192.285611},\n",
      "                                      {'AMODULE': 'Single-Span-Multi-Hop-Extraction',\n",
      "                                       'ATEXT': '回蜀',\n",
      "                                       'end_score': 308338003.5431498,\n",
      "                                       'score': 1.741026717608509e-08,\n",
      "                                       'start_score': 102.47952172506936},\n",
      "                                      {'AMODULE': 'Single-Span-Multi-Hop-Extraction',\n",
      "                                       'ATEXT': '苏轼回蜀',\n",
      "                                       'end_score': 308338003.5431498,\n",
      "                                       'score': 2.2634644517807343e-09,\n",
      "                                       'start_score': 13.323101369679538},\n",
      "                                      {'AMODULE': 'Single-Span-Multi-Hop-Extraction',\n",
      "                                       'ATEXT': '蜀守丧，英宗怜之，同意以官船',\n",
      "                                       'end_score': 0.5282491510250891,\n",
      "                                       'score': 1.713214463527092e-09,\n",
      "                                       'start_score': 5886154192.285611},\n",
      "                                      {'AMODULE': 'Single-Span-Multi-Hop-Extraction',\n",
      "                                       'ATEXT': '蜀守丧，英宗',\n",
      "                                       'end_score': 0.41454445484030583,\n",
      "                                       'score': 1.3444480780124043e-09,\n",
      "                                       'start_score': 5886154192.285611},\n",
      "                                      {'AMODULE': 'Single-Span-Multi-Hop-Extraction',\n",
      "                                       'ATEXT': '蜀守丧，英宗怜之，同意以官船载运',\n",
      "                                       'end_score': 0.38676396504875415,\n",
      "                                       'score': 1.2543505609176867e-09,\n",
      "                                       'start_score': 5886154192.285611},\n",
      "                                      {'AMODULE': 'Single-Span-Multi-Hop-Extraction',\n",
      "                                       'ATEXT': '蜀守丧，英宗怜之',\n",
      "                                       'end_score': 0.37288467952756577,\n",
      "                                       'score': 1.2093373457479517e-09,\n",
      "                                       'start_score': 5886154192.285611}],\n",
      "                            'score': 0.9921101538250985},\n",
      " 'Summarize': {'ACAND': [{'AMODULE': 'Summarize',\n",
      "                          'ATEXT': '',\n",
      "                          'end_score': 0.0,\n",
      "                          'score': 0.0,\n",
      "                          'start_score': 0.0}],\n",
      "               'score': 0.0},\n",
      " 'YesNo': {'ACAND': [{'AMODULE': 'YesNo',\n",
      "                      'ATEXT': '',\n",
      "                      'end_score': 0.0,\n",
      "                      'score': 0.0,\n",
      "                      'start_score': 0.0}],\n",
      "           'score': 0.00010289644578320467}}\n"
     ],
     "output_type": "stream"
    }
   ],
   "source": [
    "import pprint\n",
    "pprint.pprint(amode)\n",
    "\n",
    "# def get_amode_score_dicts()"
   ],
   "metadata": {
    "collapsed": false,
    "pycharm": {
     "name": "#%%\n",
     "is_executing": false
    }
   }
  },
  {
   "cell_type": "code",
   "execution_count": 7,
   "outputs": [
    {
     "data": {
      "text/plain": "{'Location': 0.9872424602508545,\n 'Organization': 0.005938304588198662,\n 'Person': 0.002249382436275482,\n 'Object': 0.0018527896609157324,\n 'Date-Duration': 0.0014549009501934052,\n 'Kinship': 0.0011132927611470222,\n 'Num-Measure': 0.0008777257753536105,\n 'Misc': 0.0006957667064853013,\n 'Event': 0.0005714845610782504,\n 'YesNo': 6.564179784618318e-05}"
     },
     "metadata": {},
     "output_type": "execute_result",
     "execution_count": 7
    }
   ],
   "source": [
    "docs[0]['QUESTIONS'][0]['ATYPE']\n",
    "\n"
   ],
   "metadata": {
    "collapsed": false,
    "pycharm": {
     "name": "#%%\n",
     "is_executing": false
    }
   }
  },
  {
   "cell_type": "code",
   "execution_count": 8,
   "outputs": [
    {
     "data": {
      "text/plain": "{'QID': 'D002Q01',\n 'QTYPE': '基礎題',\n 'ATYPE_': 'Location',\n 'AMODE_': ['Single-Span-Extraction'],\n 'QTEXT': '蘇東坡的老家在哪?',\n 'ANSWER': [{'ATEXT': '蜀',\n   'ATEXT_CN': '蜀',\n   'ATOKEN': [{'text': '蜀', 'text_cn': '蜀', 'start': 225, 'end': 226}]}],\n 'QTEXT_CN': '苏东坡的老家在哪?',\n 'QTEXT_RE': '苏东坡的老家在哪?',\n 'REFINED': 0.9,\n 'SENTS': [{'text': '苏东坡的老家在哪?',\n   'start': 0,\n   'end': 9,\n   'IE': {'NER': [{'id': 'D0-S0-M0',\n      'string': '苏东坡',\n      'type': 'PER',\n      'char_b': 0,\n      'char_e': 3}],\n    'COREF': {},\n    'RELATION': [],\n    'TOKEN': [{'word': '苏东坡', 'char_b': 0, 'char_e': 3, 'pos': 'NR'},\n     {'word': '的', 'char_b': 3, 'char_e': 4, 'pos': 'DEG'},\n     {'word': '老家', 'char_b': 4, 'char_e': 6, 'pos': 'NN'},\n     {'word': '在哪', 'char_b': 6, 'char_e': 8, 'pos': 'VV'},\n     {'word': '?', 'char_b': 8, 'char_e': 9, 'pos': 'PU'}]}}],\n 'SHINT': [0,\n  1,\n  2,\n  3,\n  4,\n  5,\n  6,\n  7,\n  8,\n  9,\n  10,\n  11,\n  12,\n  13,\n  14,\n  15,\n  16,\n  17,\n  18,\n  19,\n  20,\n  21,\n  22,\n  23,\n  24,\n  25,\n  26,\n  27,\n  28,\n  29,\n  30,\n  31,\n  32,\n  33,\n  34],\n 'AMODE': {'Single-Span-Extraction': {'score': 0.9921101538250985,\n   'ACAND': [{'AMODULE': 'Single-Span-Extraction',\n     'ATEXT': '蜀',\n     'score': 0.9999931713722636,\n     'start_score': 0.9851513504981995,\n     'end_score': 0.9852356910705566},\n    {'AMODULE': 'Single-Span-Extraction',\n     'ATEXT': '曾巩',\n     'score': 3.091071047951055e-06,\n     'start_score': 0.0012795289512723684,\n     'end_score': 0.0023447952698916197},\n    {'AMODULE': 'Single-Span-Extraction',\n     'ATEXT': '。',\n     'score': 4.373937894330323e-07,\n     'start_score': 0.000831295910757035,\n     'end_score': 0.0005106966709718108},\n    {'ATEXT': '蜀',\n     'score': 0.9999999551350021,\n     'start_score': 5886154192.285611,\n     'end_score': 308338003.5431498,\n     'AMODULE': 'Single-Span-Multi-Hop-Extraction',\n     'ATEXT_TW': '蜀'},\n    {'ATEXT': '蜀守丧',\n     'score': 1.9669915922100203e-08,\n     'start_score': 5886154192.285611,\n     'end_score': 6.064982877387435,\n     'AMODULE': 'Single-Span-Multi-Hop-Extraction'},\n    {'ATEXT': '回蜀',\n     'score': 1.741026717608509e-08,\n     'start_score': 102.47952172506936,\n     'end_score': 308338003.5431498,\n     'AMODULE': 'Single-Span-Multi-Hop-Extraction'},\n    {'ATEXT': '苏轼回蜀',\n     'score': 2.2634644517807343e-09,\n     'start_score': 13.323101369679538,\n     'end_score': 308338003.5431498,\n     'AMODULE': 'Single-Span-Multi-Hop-Extraction'},\n    {'ATEXT': '蜀守丧，英宗怜之，同意以官船',\n     'score': 1.713214463527092e-09,\n     'start_score': 5886154192.285611,\n     'end_score': 0.5282491510250891,\n     'AMODULE': 'Single-Span-Multi-Hop-Extraction'},\n    {'ATEXT': '蜀守丧，英宗',\n     'score': 1.3444480780124043e-09,\n     'start_score': 5886154192.285611,\n     'end_score': 0.41454445484030583,\n     'AMODULE': 'Single-Span-Multi-Hop-Extraction'},\n    {'ATEXT': '蜀守丧，英宗怜之，同意以官船载运',\n     'score': 1.2543505609176867e-09,\n     'start_score': 5886154192.285611,\n     'end_score': 0.38676396504875415,\n     'AMODULE': 'Single-Span-Multi-Hop-Extraction'},\n    {'ATEXT': '蜀守丧，英宗怜之',\n     'score': 1.2093373457479517e-09,\n     'start_score': 5886154192.285611,\n     'end_score': 0.37288467952756577,\n     'AMODULE': 'Single-Span-Multi-Hop-Extraction'}]},\n  'Multi-Spans-Extraction': {'score': 0.003370355969238265,\n   'ACAND': [{'AMODULE': 'Multi-Spans-Extraction',\n     'ATEXT': '京、苏洵及蜀',\n     'score': 1.0,\n     'start_score': 0.0,\n     'end_score': 0.0}]},\n  'Date-Duration': {'score': 0.0011632225424432303,\n   'ACAND': [{'AMODULE': 'Date-Duration',\n     'ATEXT': '',\n     'score': 0.0,\n     'start_score': 0.0,\n     'end_score': 0.0}]},\n  'Kinship': {'score': 0.0010970106988595148,\n   'ACAND': [{'AMODULE': 'Kinship',\n     'ATEXT': '',\n     'score': 0.0,\n     'start_score': 0.0,\n     'end_score': 0.0}]},\n  'Comparing-Members': {'score': 0.0010614280925899267, 'ACAND': []},\n  'Arithmetic-Operations': {'score': 0.0009442916724158197,\n   'ACAND': [{'AMODULE': 'Arithmetic-Operations',\n     'ATEXT': '',\n     'score': 0.0,\n     'start_score': 0.0,\n     'end_score': 0.0}]},\n  'Counting': {'score': 0.00012813956658467736, 'ACAND': []},\n  'YesNo': {'score': 0.00010289644578320467,\n   'ACAND': [{'AMODULE': 'YesNo',\n     'ATEXT': '',\n     'score': 0.0,\n     'start_score': 0.0,\n     'end_score': 0.0}]},\n  'CommonSense': {'score': 2.2501186986928688e-05, 'ACAND': []},\n  'Summarize': {'score': 0.0,\n   'ACAND': [{'AMODULE': 'Summarize',\n     'ATEXT': '',\n     'score': 0.0,\n     'start_score': 0.0,\n     'end_score': 0.0}]}},\n 'ATYPE': {'Location': 0.9872424602508545,\n  'Organization': 0.005938304588198662,\n  'Person': 0.002249382436275482,\n  'Object': 0.0018527896609157324,\n  'Date-Duration': 0.0014549009501934052,\n  'Kinship': 0.0011132927611470222,\n  'Num-Measure': 0.0008777257753536105,\n  'Misc': 0.0006957667064853013,\n  'Event': 0.0005714845610782504,\n  'YesNo': 6.564179784618318e-05},\n 'AFINAL': {'ATEXT': '蜀',\n  'score': 0.9999999551350021,\n  'start_score': 5886154192.285611,\n  'end_score': 308338003.5431498,\n  'AMODULE': 'Single-Span-Multi-Hop-Extraction',\n  'ATEXT_TW': '蜀'}}"
     },
     "metadata": {},
     "output_type": "execute_result",
     "execution_count": 8
    }
   ],
   "source": [
    "docs[0]['QUESTIONS'][0]\n"
   ],
   "metadata": {
    "collapsed": false,
    "pycharm": {
     "name": "#%%\n",
     "is_executing": false
    }
   }
  }
 ],
 "metadata": {
  "kernelspec": {
   "display_name": "Python 3",
   "language": "python",
   "name": "python3"
  },
  "language_info": {
   "codemirror_mode": {
    "name": "ipython",
    "version": 2
   },
   "file_extension": ".py",
   "mimetype": "text/x-python",
   "name": "python",
   "nbconvert_exporter": "python",
   "pygments_lexer": "ipython2",
   "version": "2.7.6"
  },
  "pycharm": {
   "stem_cell": {
    "cell_type": "raw",
    "source": [],
    "metadata": {
     "collapsed": false
    }
   }
  }
 },
 "nbformat": 4,
 "nbformat_minor": 0
}